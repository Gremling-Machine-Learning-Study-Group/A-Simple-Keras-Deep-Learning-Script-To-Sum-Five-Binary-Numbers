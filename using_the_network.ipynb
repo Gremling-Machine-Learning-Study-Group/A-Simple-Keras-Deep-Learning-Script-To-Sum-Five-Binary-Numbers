{
  "nbformat": 4,
  "nbformat_minor": 0,
  "metadata": {
    "colab": {
      "name": "using_the_network.ipynb",
      "provenance": [],
      "collapsed_sections": [],
      "toc_visible": true,
      "mount_file_id": "1U_5b53f3cjLLUkawniUTq0LlIv1cHV68",
      "authorship_tag": "ABX9TyMvf03HKjXj7Ip2NtSQpcme"
    },
    "kernelspec": {
      "name": "python3",
      "display_name": "Python 3"
    }
  },
  "cells": [
    {
      "cell_type": "code",
      "metadata": {
        "id": "jT4DE0oCxc9i",
        "colab_type": "code",
        "outputId": "3240d44d-6255-43f0-b22f-43c3921dc3c4",
        "colab": {
          "base_uri": "https://localhost:8080/",
          "height": 71
        }
      },
      "source": [
        "import tensorflow as tf\n",
        "\n",
        "#Creating our input tensor:\n",
        "data = np.array([[1,0,1,0,0]])\n",
        "\n",
        "#Importing/Unsing the trained network:\n",
        "model = tf.keras.models.load_model('/content/drive/My Drive/Colab Notebooks/adding_binary_numbers_with_DL/trained_network')\n",
        "predictions = model.predict(data)\n",
        "\n",
        "#Print rounded prediction:\n",
        "print(\"Sum of the array = \", round(predictions[0,0]))\n"
      ],
      "execution_count": 0,
      "outputs": [
        {
          "output_type": "stream",
          "text": [
            "WARNING:tensorflow:Error in loading the saved optimizer state. As a result, your model is starting with a freshly initialized optimizer.\n",
            "Sum of the array =  2.0\n"
          ],
          "name": "stdout"
        }
      ]
    }
  ]
}